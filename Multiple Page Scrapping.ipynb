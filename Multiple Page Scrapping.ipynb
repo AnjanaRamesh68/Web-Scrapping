{
 "cells": [
  {
   "cell_type": "code",
   "execution_count": 1,
   "id": "8b96bf17",
   "metadata": {},
   "outputs": [],
   "source": [
    "import requests\n",
    "from bs4 import BeautifulSoup\n",
    "import pandas as pd"
   ]
  },
  {
   "cell_type": "code",
   "execution_count": 45,
   "id": "1face1ba",
   "metadata": {},
   "outputs": [
    {
     "name": "stdout",
     "output_type": "stream",
     "text": [
      "200\n"
     ]
    }
   ],
   "source": [
    "url  = 'https://in.talent.com/jobs?context=&k=data+analyst&l=India&s=&id=afd0d97467f6'\n",
    "req1 = requests.get(url)\n",
    "print(req1.status_code)"
   ]
  },
  {
   "cell_type": "code",
   "execution_count": 43,
   "id": "f94ed702",
   "metadata": {},
   "outputs": [
    {
     "name": "stdout",
     "output_type": "stream",
     "text": [
      "200\n",
      "200\n",
      "200\n",
      "200\n",
      "200\n"
     ]
    }
   ],
   "source": [
    "## Multiple page scrapping\n",
    "address = 'https://in.talent.com'\n",
    "np = 'class=\"page-next page\"'\n",
    "link_list = [url]\n",
    "for i in range(5):\n",
    "    soup = BeautifulSoup(req.content,'html.parser')\n",
    "    a = soup.find_all('a','aria-label' == 'Next Page')\n",
    "    b = list(a)\n",
    "    for i in b:\n",
    "        if np in str(i):\n",
    "            c = i\n",
    "            break\n",
    "    new_link = c['href']\n",
    "    link = address+new_link\n",
    "    link_list.append(link)\n",
    "    req = requests.get(link)\n",
    "    print(req.status_code)"
   ]
  },
  {
   "cell_type": "code",
   "execution_count": 44,
   "id": "169b13ae",
   "metadata": {},
   "outputs": [
    {
     "data": {
      "text/plain": [
       "['https://in.talent.com/jobs?context=&k=data+analyst&l=India&s=&id=afd0d97467f6',\n",
       " 'https://in.talent.com/jobs?k=data+analyst&l=India&p=7&context=serp_pagination',\n",
       " 'https://in.talent.com/jobs?k=data+analyst&l=India&p=8&context=serp_pagination',\n",
       " 'https://in.talent.com/jobs?k=data+analyst&l=India&p=9&context=serp_pagination',\n",
       " 'https://in.talent.com/jobs?k=data+analyst&l=India&p=10&context=serp_pagination',\n",
       " 'https://in.talent.com/jobs?k=data+analyst&l=India&p=11&context=serp_pagination']"
      ]
     },
     "execution_count": 44,
     "metadata": {},
     "output_type": "execute_result"
    }
   ],
   "source": [
    "link_list"
   ]
  },
  {
   "cell_type": "markdown",
   "id": "e2178da2",
   "metadata": {},
   "source": [
    "Now we have the links of the first 6 pages."
   ]
  },
  {
   "cell_type": "code",
   "execution_count": 79,
   "id": "6cb2675b",
   "metadata": {},
   "outputs": [],
   "source": [
    "df = pd.DataFrame(columns = ['Job_role','Employer','Location'])\n",
    "index = 0\n",
    "for i in link_list:\n",
    "    url = i\n",
    "    req = requests.get(url)\n",
    "    s1 = BeautifulSoup(req1.content,'html.parser')\n",
    "    aa = s1.find_all('section',class_ = 'card card__job')\n",
    "    for i in aa:\n",
    "        s2 = BeautifulSoup(str(i),'html.parser')\n",
    "        job = s2.find_all('h2',class_ = 'card__job-title card__job-link gojob')\n",
    "        job_name = job[0].text\n",
    "        job_name\n",
    "        df.loc[index,'Job_role'] = job_name\n",
    "        emp = s2.find_all('div',class_ = 'card__job-empname-label')\n",
    "        emp_name = emp[0].text\n",
    "        emp_name\n",
    "        df.loc[index,'Employer'] = emp_name\n",
    "        loca = s2.find_all('div',class_ = 'card__job-location')\n",
    "        loc = loca[0].text\n",
    "        loc\n",
    "        df.loc[index,'Location'] = loc\n",
    "        index = index + 1\n",
    "        "
   ]
  },
  {
   "cell_type": "code",
   "execution_count": 81,
   "id": "ad7c7c6d",
   "metadata": {},
   "outputs": [
    {
     "data": {
      "text/html": [
       "<div>\n",
       "<style scoped>\n",
       "    .dataframe tbody tr th:only-of-type {\n",
       "        vertical-align: middle;\n",
       "    }\n",
       "\n",
       "    .dataframe tbody tr th {\n",
       "        vertical-align: top;\n",
       "    }\n",
       "\n",
       "    .dataframe thead th {\n",
       "        text-align: right;\n",
       "    }\n",
       "</style>\n",
       "<table border=\"1\" class=\"dataframe\">\n",
       "  <thead>\n",
       "    <tr style=\"text-align: right;\">\n",
       "      <th></th>\n",
       "      <th>Job_role</th>\n",
       "      <th>Employer</th>\n",
       "      <th>Location</th>\n",
       "    </tr>\n",
       "  </thead>\n",
       "  <tbody>\n",
       "    <tr>\n",
       "      <th>0</th>\n",
       "      <td>Data Analyst</td>\n",
       "      <td>Kline &amp; Company</td>\n",
       "      <td>Telangana</td>\n",
       "    </tr>\n",
       "    <tr>\n",
       "      <th>1</th>\n",
       "      <td>Data Analyst</td>\n",
       "      <td>Nielsen</td>\n",
       "      <td>Mumbai, Maharashtra</td>\n",
       "    </tr>\n",
       "    <tr>\n",
       "      <th>2</th>\n",
       "      <td>Data Analyst</td>\n",
       "      <td>SECRET VMS TECHNOLOGIES LLP</td>\n",
       "      <td>Pune, Maharashtra</td>\n",
       "    </tr>\n",
       "    <tr>\n",
       "      <th>3</th>\n",
       "      <td>Data Analyst</td>\n",
       "      <td>Tamcherry - Zaportiv</td>\n",
       "      <td>Chennai, Tamil Nadu</td>\n",
       "    </tr>\n",
       "    <tr>\n",
       "      <th>4</th>\n",
       "      <td>Data Analyst</td>\n",
       "      <td>Quess IT Staffing (Formerly known as Magna Inf...</td>\n",
       "      <td>Delhi</td>\n",
       "    </tr>\n",
       "    <tr>\n",
       "      <th>...</th>\n",
       "      <td>...</td>\n",
       "      <td>...</td>\n",
       "      <td>...</td>\n",
       "    </tr>\n",
       "    <tr>\n",
       "      <th>115</th>\n",
       "      <td>Data Analyst</td>\n",
       "      <td>Recruitrix Technologies</td>\n",
       "      <td>Telangana</td>\n",
       "    </tr>\n",
       "    <tr>\n",
       "      <th>116</th>\n",
       "      <td>Data Analyst</td>\n",
       "      <td>Bonzer Business Solutions(BBS)</td>\n",
       "      <td>Gurugram, Haryana</td>\n",
       "    </tr>\n",
       "    <tr>\n",
       "      <th>117</th>\n",
       "      <td>Data Analyst</td>\n",
       "      <td>dailyhunt</td>\n",
       "      <td>Bangalore, Karnataka</td>\n",
       "    </tr>\n",
       "    <tr>\n",
       "      <th>118</th>\n",
       "      <td>Data Analyst</td>\n",
       "      <td>Newtonschool</td>\n",
       "      <td>Bangalore, Karnataka</td>\n",
       "    </tr>\n",
       "    <tr>\n",
       "      <th>119</th>\n",
       "      <td>Data Analyst</td>\n",
       "      <td>GenXHire Services Private Limited</td>\n",
       "      <td>Mumbai, Maharashtra</td>\n",
       "    </tr>\n",
       "  </tbody>\n",
       "</table>\n",
       "<p>120 rows × 3 columns</p>\n",
       "</div>"
      ],
      "text/plain": [
       "         Job_role                                           Employer  \\\n",
       "0    Data Analyst                                    Kline & Company   \n",
       "1    Data Analyst                                            Nielsen   \n",
       "2    Data Analyst                        SECRET VMS TECHNOLOGIES LLP   \n",
       "3    Data Analyst                               Tamcherry - Zaportiv   \n",
       "4    Data Analyst  Quess IT Staffing (Formerly known as Magna Inf...   \n",
       "..            ...                                                ...   \n",
       "115  Data Analyst                            Recruitrix Technologies   \n",
       "116  Data Analyst                     Bonzer Business Solutions(BBS)   \n",
       "117  Data Analyst                                          dailyhunt   \n",
       "118  Data Analyst                                       Newtonschool   \n",
       "119  Data Analyst                  GenXHire Services Private Limited   \n",
       "\n",
       "                 Location  \n",
       "0               Telangana  \n",
       "1     Mumbai, Maharashtra  \n",
       "2       Pune, Maharashtra  \n",
       "3     Chennai, Tamil Nadu  \n",
       "4                   Delhi  \n",
       "..                    ...  \n",
       "115             Telangana  \n",
       "116     Gurugram, Haryana  \n",
       "117  Bangalore, Karnataka  \n",
       "118  Bangalore, Karnataka  \n",
       "119   Mumbai, Maharashtra  \n",
       "\n",
       "[120 rows x 3 columns]"
      ]
     },
     "execution_count": 81,
     "metadata": {},
     "output_type": "execute_result"
    }
   ],
   "source": [
    "df"
   ]
  },
  {
   "cell_type": "code",
   "execution_count": 82,
   "id": "b32058aa",
   "metadata": {},
   "outputs": [],
   "source": [
    "df.to_excel('Scrapped.xlsx')"
   ]
  },
  {
   "cell_type": "code",
   "execution_count": null,
   "id": "d9a2bc5e",
   "metadata": {},
   "outputs": [],
   "source": []
  }
 ],
 "metadata": {
  "kernelspec": {
   "display_name": "Python 3 (ipykernel)",
   "language": "python",
   "name": "python3"
  },
  "language_info": {
   "codemirror_mode": {
    "name": "ipython",
    "version": 3
   },
   "file_extension": ".py",
   "mimetype": "text/x-python",
   "name": "python",
   "nbconvert_exporter": "python",
   "pygments_lexer": "ipython3",
   "version": "3.9.7"
  }
 },
 "nbformat": 4,
 "nbformat_minor": 5
}
